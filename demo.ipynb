{
 "cells": [
  {
   "cell_type": "markdown",
   "metadata": {},
   "source": [
    "# Demo of Gradient Descent with Vectorized Neural Network"
   ]
  },
  {
   "cell_type": "code",
   "execution_count": 9,
   "metadata": {},
   "outputs": [],
   "source": [
    "%matplotlib inline\n",
    "\n",
    "# this module\n",
    "from autograd.engine import Tensor\n",
    "from autograd.nn import MLP\n",
    "\n",
    "# extra helpers\n",
    "import numpy as np\n",
    "import matplotlib.pyplot as plt\n",
    "from tqdm.notebook import trange"
   ]
  },
  {
   "cell_type": "markdown",
   "metadata": {},
   "source": [
    "making the model:"
   ]
  },
  {
   "cell_type": "code",
   "execution_count": 7,
   "metadata": {},
   "outputs": [
    {
     "name": "stdout",
     "output_type": "stream",
     "text": [
      "MLP of 3: \n",
      " - In: Layer: relu, 4 neurons\n",
      " - Layer: relu, 4 neurons\n",
      " - Layer: linear, 1 neurons\n"
     ]
    }
   ],
   "source": [
    "nn = MLP(3, [4, 4, 1], acts=['relu', 'relu', None])\n",
    "print(nn)"
   ]
  },
  {
   "cell_type": "markdown",
   "metadata": {},
   "source": [
    "creating some fake data:"
   ]
  },
  {
   "cell_type": "code",
   "execution_count": 8,
   "metadata": {},
   "outputs": [],
   "source": [
    "xs = np.array([\n",
    "  [2.0, 3.0, -1.0],\n",
    "  [3.0, -1.0, 0.5],\n",
    "  [0.5, 1.0, 1.0],\n",
    "  [1.0, 1.0, -1.0],\n",
    "]).T\n",
    "\n",
    "ys = np.array([1.0, -1.0, -1.0, 1.0]).reshape(1,4) # desired targets"
   ]
  },
  {
   "cell_type": "markdown",
   "metadata": {},
   "source": [
    "training:"
   ]
  },
  {
   "cell_type": "code",
   "execution_count": 10,
   "metadata": {},
   "outputs": [
    {
     "data": {
      "application/vnd.jupyter.widget-view+json": {
       "model_id": "fa7f305b7f7b4748a0c6f104bdb88010",
       "version_major": 2,
       "version_minor": 0
      },
      "text/plain": [
       "  0%|          | 0/100 [00:00<?, ?it/s]"
      ]
     },
     "metadata": {},
     "output_type": "display_data"
    },
    {
     "name": "stdout",
     "output_type": "stream",
     "text": [
      "Iteration 0: loss of 15.55510\n",
      "Iteration 1: loss of 780.37601\n",
      "Iteration 2: loss of 5.21150\n",
      "Iteration 3: loss of 4.76512\n",
      "Iteration 4: loss of 4.41884\n",
      "Iteration 5: loss of 4.14036\n",
      "Iteration 6: loss of 3.90846\n",
      "Iteration 7: loss of 3.70911\n",
      "Iteration 8: loss of 3.53302\n",
      "Iteration 9: loss of 3.37398\n",
      "Iteration 10: loss of 3.22785\n",
      "Iteration 11: loss of 3.09185\n",
      "Iteration 12: loss of 2.96406\n",
      "Iteration 13: loss of 2.84320\n",
      "Iteration 14: loss of 2.72833\n",
      "Iteration 15: loss of 2.61880\n",
      "Iteration 16: loss of 2.51413\n",
      "Iteration 17: loss of 2.41393\n",
      "Iteration 18: loss of 2.31793\n",
      "Iteration 19: loss of 2.22587\n",
      "Iteration 20: loss of 2.13755\n",
      "Iteration 21: loss of 2.05279\n",
      "Iteration 22: loss of 1.97143\n",
      "Iteration 23: loss of 1.89331\n",
      "Iteration 24: loss of 1.81830\n",
      "Iteration 25: loss of 1.74628\n",
      "Iteration 26: loss of 1.67711\n",
      "Iteration 27: loss of 1.61069\n",
      "Iteration 28: loss of 1.54690\n",
      "Iteration 29: loss of 1.48564\n",
      "Iteration 30: loss of 1.42681\n",
      "Iteration 31: loss of 1.37030\n",
      "Iteration 32: loss of 1.31604\n",
      "Iteration 33: loss of 1.26392\n",
      "Iteration 34: loss of 1.21387\n",
      "Iteration 35: loss of 1.16580\n",
      "Iteration 36: loss of 1.11963\n",
      "Iteration 37: loss of 1.07530\n",
      "Iteration 38: loss of 1.03272\n",
      "Iteration 39: loss of 0.99182\n",
      "Iteration 40: loss of 0.95254\n",
      "Iteration 41: loss of 0.91482\n",
      "Iteration 42: loss of 0.87860\n",
      "Iteration 43: loss of 0.84380\n",
      "Iteration 44: loss of 0.81039\n",
      "Iteration 45: loss of 0.77830\n",
      "Iteration 46: loss of 0.74748\n",
      "Iteration 47: loss of 0.71788\n",
      "Iteration 48: loss of 0.68945\n",
      "Iteration 49: loss of 0.66215\n",
      "Iteration 50: loss of 0.63593\n",
      "Iteration 51: loss of 0.61074\n",
      "Iteration 52: loss of 0.58656\n",
      "Iteration 53: loss of 0.56333\n",
      "Iteration 54: loss of 0.54102\n",
      "Iteration 55: loss of 0.51960\n",
      "Iteration 56: loss of 0.49902\n",
      "Iteration 57: loss of 0.47926\n",
      "Iteration 58: loss of 0.46028\n",
      "Iteration 59: loss of 0.44205\n",
      "Iteration 60: loss of 0.42455\n",
      "Iteration 61: loss of 0.40774\n",
      "Iteration 62: loss of 0.39159\n",
      "Iteration 63: loss of 0.37608\n",
      "Iteration 64: loss of 0.36119\n",
      "Iteration 65: loss of 0.34689\n",
      "Iteration 66: loss of 0.33315\n",
      "Iteration 67: loss of 0.31996\n",
      "Iteration 68: loss of 0.30729\n",
      "Iteration 69: loss of 0.29512\n",
      "Iteration 70: loss of 0.28343\n",
      "Iteration 71: loss of 0.27221\n",
      "Iteration 72: loss of 0.26143\n",
      "Iteration 73: loss of 0.25108\n",
      "Iteration 74: loss of 0.24113\n",
      "Iteration 75: loss of 0.23158\n",
      "Iteration 76: loss of 0.22241\n",
      "Iteration 77: loss of 0.21361\n",
      "Iteration 78: loss of 0.20515\n",
      "Iteration 79: loss of 0.19702\n",
      "Iteration 80: loss of 0.18922\n",
      "Iteration 81: loss of 0.18173\n",
      "Iteration 82: loss of 0.17453\n",
      "Iteration 83: loss of 0.16762\n",
      "Iteration 84: loss of 0.16098\n",
      "Iteration 85: loss of 0.15461\n",
      "Iteration 86: loss of 0.14849\n",
      "Iteration 87: loss of 0.14261\n",
      "Iteration 88: loss of 0.13696\n",
      "Iteration 89: loss of 0.13153\n",
      "Iteration 90: loss of 0.12633\n",
      "Iteration 91: loss of 0.12132\n",
      "Iteration 92: loss of 0.11652\n",
      "Iteration 93: loss of 0.11190\n",
      "Iteration 94: loss of 0.10747\n",
      "Iteration 95: loss of 0.10322\n",
      "Iteration 96: loss of 0.09913\n",
      "Iteration 97: loss of 0.09520\n",
      "Iteration 98: loss of 0.09143\n",
      "Iteration 99: loss of 0.08781\n"
     ]
    }
   ],
   "source": [
    "learning_rate=0.01; n_iter=100\n",
    "y_pred = None\n",
    "loss = None\n",
    "\n",
    "losses = []\n",
    "\n",
    "with trange(n_iter) as t:\n",
    "    for i in t:\n",
    "        y_pred = nn.forward(xs)\n",
    "        loss = ((y_pred - ys)**2).sum()\n",
    "        losses.append(loss.data.item())\n",
    "        \n",
    "        nn.zero_grad()\n",
    "        loss.backward()\n",
    "    \n",
    "        for p in nn.parameters():\n",
    "            p.data = p.data - (learning_rate * p.grad)\n",
    "\n",
    "        t.set_postfix_str(s=f\"loss={loss.data.item()}\")\n",
    "        print(f\"Iteration {i}: loss of {loss.data.item():.5f}\")"
   ]
  },
  {
   "cell_type": "markdown",
   "metadata": {},
   "source": [
    "see how close the model's output is below? we learned the trends!"
   ]
  },
  {
   "cell_type": "code",
   "execution_count": 12,
   "metadata": {},
   "outputs": [
    {
     "name": "stdout",
     "output_type": "stream",
     "text": [
      "[[ 0.79651017 -0.86467392 -1.          0.83239233]]\n",
      "[[ 1. -1. -1.  1.]]\n"
     ]
    }
   ],
   "source": [
    "print(y_pred)\n",
    "print(ys)"
   ]
  },
  {
   "cell_type": "markdown",
   "metadata": {},
   "source": [
    "we can also visualize this phenomena:"
   ]
  },
  {
   "cell_type": "code",
   "execution_count": 14,
   "metadata": {},
   "outputs": [
    {
     "data": {
      "image/png": "[encoded data removed]",
      "text/plain": [
       "<Figure size 640x480 with 1 Axes>"
      ]
     },
     "metadata": {},
     "output_type": "display_data"
    }
   ],
   "source": [
    "plt.plot(range(n_iter), losses, c='red')\n",
    "plt.ylabel('loss'); plt.xlabel('iteration')\n",
    "plt.ylim(0,5)\n",
    "plt.show()"
   ]
  },
  {
   "cell_type": "markdown",
   "metadata": {},
   "source": [
    "# A Slightly Larger Example"
   ]
  },
  {
   "cell_type": "markdown",
   "metadata": {},
   "source": [
    "make data:"
   ]
  },
  {
   "cell_type": "code",
   "execution_count": 58,
   "metadata": {},
   "outputs": [
    {
     "data": {
      "image/png": "[encoded data removed]",
      "text/plain": [
       "<Figure size 300x300 with 1 Axes>"
      ]
     },
     "metadata": {},
     "output_type": "display_data"
    }
   ],
   "source": [
    "# make up a dataset\n",
    "\n",
    "from sklearn.datasets import make_moons, make_blobs\n",
    "X, y = make_moons(n_samples=100, noise=0.1)\n",
    "\n",
    "y = y*2 - 1 # make y be -1 or 1\n",
    "# visualize in 2D\n",
    "plt.figure(figsize=(3,3))\n",
    "plt.scatter(X[:,0], X[:,1], c=y, s=15, cmap='jet')\n",
    "\n",
    "X = X.T\n",
    "y = y.reshape(-1,1).T"
   ]
  },
  {
   "cell_type": "markdown",
   "metadata": {},
   "source": [
    "build neural network:"
   ]
  },
  {
   "cell_type": "code",
   "execution_count": 59,
   "metadata": {},
   "outputs": [
    {
     "name": "stdout",
     "output_type": "stream",
     "text": [
      "MLP of 3: \n",
      " - In: Layer: relu, 4 neurons\n",
      " - Layer: relu, 4 neurons\n",
      " - Layer: linear, 1 neurons\n"
     ]
    }
   ],
   "source": [
    "nn = MLP(2, [4, 4, 1], ['relu', 'relu', None])\n",
    "print(nn)"
   ]
  },
  {
   "cell_type": "code",
   "execution_count": 60,
   "metadata": {},
   "outputs": [
    {
     "data": {
      "application/vnd.jupyter.widget-view+json": {
       "model_id": "9bae6959e00340d099e336d52310927d",
       "version_major": 2,
       "version_minor": 0
      },
      "text/plain": [
       "  0%|          | 0/100 [00:00<?, ?it/s]"
      ]
     },
     "metadata": {},
     "output_type": "display_data"
    }
   ],
   "source": [
    "learning_rate=0.01; n_iter=100\n",
    "y_pred = None\n",
    "loss = None\n",
    "\n",
    "losses = []\n",
    "\n",
    "with trange(n_iter) as t:\n",
    "    for i in t:\n",
    "        y_pred = nn.forward(X)\n",
    "        loss = ((y_pred - y)**2).sum()\n",
    "        losses.append(loss.data.item())\n",
    "        \n",
    "        nn.zero_grad()\n",
    "        loss.backward()\n",
    "    \n",
    "        for p in nn.parameters():\n",
    "            p.data = p.data - (learning_rate * p.grad)\n",
    "            \n",
    "        t.set_description(desc=f\"loss={loss.data.item():.5f} \")"
   ]
  },
  {
   "cell_type": "markdown",
   "metadata": {},
   "source": [
    "again we can visualize the improvement of our loss:"
   ]
  },
  {
   "cell_type": "code",
   "execution_count": 61,
   "metadata": {},
   "outputs": [
    {
     "data": {
      "image/png": "[encoded data removed]",
      "text/plain": [
       "<Figure size 640x480 with 1 Axes>"
      ]
     },
     "metadata": {},
     "output_type": "display_data"
    }
   ],
   "source": [
    "plt.plot(range(n_iter), losses, c='red')\n",
    "plt.ylabel('loss'); plt.xlabel('iteration')\n",
    "plt.ylim(0,60)\n",
    "plt.show()"
   ]
  }
 ],
 "metadata": {
  "kernelspec": {
   "display_name": "gends",
   "language": "python",
   "name": "python3"
  },
  "language_info": {
   "codemirror_mode": {
    "name": "ipython",
    "version": 3
   },
   "file_extension": ".py",
   "mimetype": "text/x-python",
   "name": "python",
   "nbconvert_exporter": "python",
   "pygments_lexer": "ipython3",
   "version": "3.12.0"
  }
 },
 "nbformat": 4,
 "nbformat_minor": 2
}
